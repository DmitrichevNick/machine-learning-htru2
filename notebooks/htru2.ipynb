{
 "cells": [
  {
   "cell_type": "markdown",
   "metadata": {},
   "source": [
    "# Machine Learning"
   ]
  },
  {
   "cell_type": "markdown",
   "metadata": {},
   "source": [
    "## Dataset: [HTRU2](https://archive.ics.uci.edu/ml/datasets/HTRU2)"
   ]
  },
  {
   "cell_type": "markdown",
   "metadata": {},
   "source": [
    "### Описание\n",
    "Датасет содержит кандидатов-пульсаров, собранных в ходе исследования [HTRU](https://sites.google.com/site/htrusouthdeep/home).\n",
    "Пульсар - разновидность звезды, представляющая значительный научный интерес. Кандидаты должны быть классифицированы в классы \"пульсар\" и \"не пульсар\", для дальнейшего более глубоко изучения.\n",
    "\n",
    "Датасет содержит <strong>17 898</strong> объектов, из которых:\n",
    "- <strong>16 259</strong> ложных примеров - RFI/шум;\n",
    "- <strong>639</strong> реальных примеров - настоящие пульсары.\n",
    "\n",
    "Признаки:\n",
    "\n",
    "- <strong>mean_IP</strong> - cреднее значение интегрированного профиля;\n",
    "- <strong>deviation_IP</strong> - стандартное отклонение интегрированного профиля;\n",
    "- <strong>excess_IP</strong> - лишний эксцесс интегрированного профиля;\n",
    "- <strong>skewness_IP</strong> - асимметрия интегрированного профиля;\n",
    "- <strong>mean_DMSNR</strong> - cреднее значение DM-SNR кривой;\n",
    "- <strong>deviation_DMSNR</strong> - стандартное отклонение DM-SNR кривой;\n",
    "- <strong>excess_DMSNR</strong> - лишний эксцесс DM-SNR кривой;\n",
    "- <strong>skewness_DMSNR</strong> - асимметрия DM-SNR кривой;\n",
    "- <strong>class</strong> - класс объекта: излучение пульсара = 1, помехи и шум = 0."
   ]
  },
  {
   "cell_type": "markdown",
   "metadata": {},
   "source": [
    "### Подготовка данных"
   ]
  },
  {
   "cell_type": "code",
   "execution_count": null,
   "metadata": {},
   "outputs": [],
   "source": []
  }
 ],
 "metadata": {
  "kernelspec": {
   "display_name": "Python 3",
   "language": "python",
   "name": "python3"
  },
  "language_info": {
   "codemirror_mode": {
    "name": "ipython",
    "version": 3
   },
   "file_extension": ".py",
   "mimetype": "text/x-python",
   "name": "python",
   "nbconvert_exporter": "python",
   "pygments_lexer": "ipython3",
   "version": "3.8.3"
  }
 },
 "nbformat": 4,
 "nbformat_minor": 4
}
